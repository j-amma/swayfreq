{
 "cells": [
  {
   "cell_type": "code",
   "execution_count": null,
   "id": "73656184",
   "metadata": {},
   "outputs": [],
   "source": [
    "import numpy as np\n",
    "import numpy.ma as ma\n",
    "import pandas as pd\n",
    "import cv2\n",
    "import matplotlib.pyplot as plt\n",
    "from mpl_toolkits.axes_grid1 import make_axes_locatable\n",
    "import matplotlib.patches as patches\n",
    "from matplotlib.lines import Line2D\n",
    "import datetime\n",
    "import scipy\n",
    "import os\n",
    "\n",
    "import VVSAnalyzer\n",
    "import MBTAnalyzer\n",
    "import vid2vib_utils\n",
    "import spectra_utils\n",
    "import aggregate_utils\n",
    "import plotting_utils\n",
    "import accelerometer_utils"
   ]
  },
  {
   "cell_type": "markdown",
   "id": "81bf39e2",
   "metadata": {},
   "source": [
    "## Site Specific Parameters"
   ]
  },
  {
   "cell_type": "code",
   "execution_count": null,
   "id": "14399ad9",
   "metadata": {},
   "outputs": [],
   "source": [
    "# video to process\n",
    "vid_num = '5486'\n",
    "\n",
    "# parametrized path\n",
    "vid_path = f'../TreeSwayData/sidneytrees/videos/SidneyTrees_30s_{vid_num}.MP4'\n",
    "\n",
    "# dictionary storing datetimes for each video\n",
    "vid_datetimes = {'5486' : '2020-8-15 12:06',\n",
    "                 '5731' : '2020-8-20 17:28',\n",
    "                 '6236' : '2020-8-31 11:50'}\n",
    "\n",
    "# dictionary storing rois\n",
    "rois = {'w293' : [420, 520, 395, 445],\n",
    "        'control460' : [400, 575, 690, 760],\n",
    "        'region1' : [336, 732, 200, 904]}\n",
    "\n",
    "# roi to analyze\n",
    "roi = 'w293'\n",
    "\n",
    "# directory to store output (optional)\n",
    "out_prefix = f'./output/manitou_{vid_num}_{roi}'"
   ]
  },
  {
   "cell_type": "markdown",
   "id": "31a5dec7",
   "metadata": {},
   "source": [
    "## Video Processing Parameters"
   ]
  },
  {
   "cell_type": "code",
   "execution_count": null,
   "id": "529b3e1e",
   "metadata": {},
   "outputs": [],
   "source": [
    "# VSS video translation kwargs\n",
    "vid2vib_pa_kwargs = {'reduction':'gray', 'edge':False}\n",
    "\n",
    "# MBT video translation kwargs\n",
    "vid2vib_mbt_kwargs = {'reduction':'gray'}\n",
    "nlevels = 8\n",
    "\n",
    "# upper and lower bound of candidate frequencies\n",
    "freqmin = 0.15\n",
    "freqmax = 0.5\n",
    "\n",
    "# function and kwargs used to estimate PSD\n",
    "spectra_func = spectra_utils.get_spectra_periodogram\n",
    "spectra_func_kwargs = {'window':'boxcar', 'nfft':4096}\n",
    "\n",
    "# function and kwargs used to find dominant frequency in each spectrum\n",
    "dom_freq_func = spectra_utils.get_dom_freq_peak_finder\n",
    "dom_freq_func_kwargs = {}\n",
    "\n",
    "# masking parameters\n",
    "percentile=75\n",
    "masks = [{'name':f'Prominence, {percentile}th percentile',\n",
    "          'weight':'prominence',\n",
    "          'kwargs':{'stat_reduc':'percentile', 'percentile':percentile}}, \n",
    "        ]\n",
    "\n",
    "# plotting figure size\n",
    "figsize=(14,7)"
   ]
  },
  {
   "cell_type": "markdown",
   "id": "968ab956",
   "metadata": {},
   "source": [
    "## VVS"
   ]
  },
  {
   "cell_type": "code",
   "execution_count": null,
   "id": "ba0eed48",
   "metadata": {},
   "outputs": [],
   "source": [
    "vvs = VVSAnalyzer.VVSAnalyzer(vid_path, rois[roi])"
   ]
  },
  {
   "cell_type": "code",
   "execution_count": null,
   "id": "4b8f1ebf",
   "metadata": {},
   "outputs": [],
   "source": [
    "vib_vvs, fps = vvs.vid2vib(vid2vib_pa_kwargs)"
   ]
  },
  {
   "cell_type": "code",
   "execution_count": null,
   "id": "371bad6a",
   "metadata": {},
   "outputs": [],
   "source": [
    "freq_vvs, pxx_vvs = vvs.compute_spectra(freqmin, freqmax, spectra_func, spectra_func_kwargs)"
   ]
  },
  {
   "cell_type": "code",
   "execution_count": null,
   "id": "5187d4d5",
   "metadata": {},
   "outputs": [],
   "source": [
    "agg_df_vvs, pxx_avg_vvs, pxx_avg_peak_idx_vvs, dom_freq, masked, masked_avg_spectrums, masked_avg_spectrums_peak_idxs = vvs.aggregate(dom_freq_func, dom_freq_func_kwargs, masks)"
   ]
  },
  {
   "cell_type": "code",
   "execution_count": null,
   "id": "e46036f5",
   "metadata": {},
   "outputs": [],
   "source": [
    "vvs.report(figsize=figsize)"
   ]
  },
  {
   "cell_type": "markdown",
   "id": "f1e65132",
   "metadata": {},
   "source": [
    "## VVS Batch Processing"
   ]
  },
  {
   "cell_type": "code",
   "execution_count": null,
   "id": "3b427453",
   "metadata": {},
   "outputs": [],
   "source": [
    "num_vids = 22\n",
    "\n",
    "vids = [30 + i for i in range(num_vids)]\n",
    "\n",
    "vid_path = '../TreeSwayData/sidneytrees/batch_0831/GOPR62{num}.MP4'\n",
    "vid_dir = '../TreeSwayData/sidneytrees/batch_0831/'\n",
    "\n",
    "vid_paths = os.listdir(vid_dir)\n",
    "\n",
    "time_start = '2020-8-31 7:46'\n",
    "datetimes = [pd.to_datetime(time_start) + pd.to_timedelta(str(30 * i) + 'm' for i in range(num_vids))]"
   ]
  },
  {
   "cell_type": "code",
   "execution_count": null,
   "id": "99856846",
   "metadata": {},
   "outputs": [],
   "source": [
    "avg = []\n",
    "mode = []\n",
    "\n",
    "for v in sorted(vid_paths):\n",
    "    path = vid_dir + v\n",
    "    print(f'Processing video: {path}')\n",
    "    vvs = VVSAnalyzer.VVSAnalyzer(path, rois[roi])\n",
    "    vib_vvs, fps = vvs.vid2vib(vid2vib_pa_kwargs)\n",
    "    freq_vvs, pxx_vvs = vvs.compute_spectra(freqmin, freqmax, spectra_func, spectra_func_kwargs)\n",
    "    agg_df_vvs, pxx_avg_vvs, pxx_avg_peak_idx_vvs, dom_freq, masked, masked_avg_spectrums, masked_avg_spectrums_peak_idxs = vvs.aggregate(dom_freq_func, dom_freq_func_kwargs, masks)\n",
    "    \n",
    "    avg.append(agg_df_vvs['mask0_avg_spectrum_peak'][0])\n",
    "    mode.append(agg_df_vvs['mask0_mode'][0])"
   ]
  },
  {
   "cell_type": "code",
   "execution_count": null,
   "id": "eac1e758",
   "metadata": {},
   "outputs": [],
   "source": [
    "plt.scatter(datetimes[0], mode[1:])"
   ]
  },
  {
   "cell_type": "markdown",
   "id": "422b5fbb",
   "metadata": {},
   "source": [
    "## MBT"
   ]
  },
  {
   "cell_type": "code",
   "execution_count": null,
   "id": "71dc48b4",
   "metadata": {},
   "outputs": [],
   "source": [
    "mbt = MBTAnalyzer.MBTAnalyzer(vid_path, rois[roi], nlevels, out_prefix)"
   ]
  },
  {
   "cell_type": "code",
   "execution_count": null,
   "id": "91d24b4a",
   "metadata": {},
   "outputs": [],
   "source": [
    "vib_mbt, _, levels = mbt.vid2vib(vid2vib_mbt_kwargs)"
   ]
  },
  {
   "cell_type": "code",
   "execution_count": null,
   "id": "a8975cca",
   "metadata": {},
   "outputs": [],
   "source": [
    "freq_mbt, pxx_mbt = mbt.compute_spectra(freqmin, freqmax, spectra_func, spectra_func_kwargs)"
   ]
  },
  {
   "cell_type": "code",
   "execution_count": null,
   "id": "524199b5",
   "metadata": {},
   "outputs": [],
   "source": [
    "agg_df_mbt, pxx_avg_mbt, pxx_avg_peak_idx_mbt = mbt.aggregate(dom_freq_func, dom_freq_func_kwargs, masks)"
   ]
  },
  {
   "cell_type": "code",
   "execution_count": null,
   "id": "a79ac3e2",
   "metadata": {},
   "outputs": [],
   "source": [
    "mbt.report(figsize=figsize)"
   ]
  },
  {
   "cell_type": "code",
   "execution_count": null,
   "id": "c840dd24",
   "metadata": {},
   "outputs": [],
   "source": []
  }
 ],
 "metadata": {
  "kernelspec": {
   "display_name": "Python 3 (ipykernel)",
   "language": "python",
   "name": "python3"
  },
  "language_info": {
   "codemirror_mode": {
    "name": "ipython",
    "version": 3
   },
   "file_extension": ".py",
   "mimetype": "text/x-python",
   "name": "python",
   "nbconvert_exporter": "python",
   "pygments_lexer": "ipython3",
   "version": "3.11.0"
  }
 },
 "nbformat": 4,
 "nbformat_minor": 5
}
